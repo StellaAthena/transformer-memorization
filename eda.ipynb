{
 "cells": [
  {
   "cell_type": "code",
   "execution_count": 1,
   "id": "c4d857a1",
   "metadata": {},
   "outputs": [],
   "source": [
    "from result_records import TFRecordLoader"
   ]
  },
  {
   "cell_type": "code",
   "execution_count": 2,
   "id": "dae1bb10",
   "metadata": {
    "scrolled": true
   },
   "outputs": [
    {
     "name": "stderr",
     "output_type": "stream",
     "text": [
      "2021-10-09 16:05:22.405734: I tensorflow/core/platform/cpu_feature_guard.cc:142] This TensorFlow binary is optimized with oneAPI Deep Neural Network Library (oneDNN) to use the following CPU instructions in performance-critical operations:  AVX2 FMA\n",
      "To enable them in other operations, rebuild TensorFlow with the appropriate compiler flags.\n"
     ]
    }
   ],
   "source": [
    "ds = TFRecordLoader('memorization_results.tfrecords')"
   ]
  },
  {
   "cell_type": "markdown",
   "id": "15b4ca92",
   "metadata": {},
   "source": [
    "# Loading Data \n",
    "> consists of 4063300 records"
   ]
  },
  {
   "cell_type": "code",
   "execution_count": 3,
   "id": "49f31ef8",
   "metadata": {},
   "outputs": [
    {
     "name": "stderr",
     "output_type": "stream",
     "text": [
      "2021-10-09 16:05:22.491630: I tensorflow/compiler/mlir/mlir_graph_optimization_pass.cc:185] None of the MLIR Optimization Passes are enabled (registered 2)\n",
      "4063300it [05:08, 13183.97it/s]\n"
     ]
    }
   ],
   "source": [
    "data = []\n",
    "indicies = []\n",
    "import numpy as np\n",
    "from tqdm import tqdm\n",
    "for i,(res,idx) in tqdm(enumerate(ds)):\n",
    "    res,idx = res.numpy(),idx.numpy()\n",
    "    if(not (np.isnan(res) or np.isinf(res))):\n",
    "        data.append(res)\n",
    "        indicies.append(idx)\n",
    "data = np.array(data)\n",
    "indicies = np.array(indicies)"
   ]
  },
  {
   "cell_type": "markdown",
   "id": "e3cb6c4a",
   "metadata": {},
   "source": [
    "# Memorization Metric plots\n",
    "> Plotting average values of memorization metric over a bucketed range of values"
   ]
  },
  {
   "cell_type": "code",
   "execution_count": 4,
   "id": "ceb14061",
   "metadata": {},
   "outputs": [
    {
     "data": {
      "application/vnd.jupyter.widget-view+json": {
       "model_id": "ce6ffbf01b4d42ad8a8bfc65a4f5b005",
       "version_major": 2,
       "version_minor": 0
      },
      "text/plain": [
       "VBox(children=(Output(), IntSlider(value=12, description='Scale', layout=Layout(width='50%'), max=21, min=1), …"
      ]
     },
     "metadata": {},
     "output_type": "display_data"
    }
   ],
   "source": [
    "from IPython.display import display\n",
    "import matplotlib.pyplot as plt\n",
    "import ipywidgets as widgets\n",
    "%matplotlib inline\n",
    "\n",
    "import numpy as np\n",
    "\n",
    "class Plotter:\n",
    "    def __init__(self,title,xlabel,ylabel,y,x=None,size=25,default_slider_value=None):\n",
    "        self.title = title\n",
    "        self.xlabel = xlabel\n",
    "        self.ylabel = ylabel\n",
    "        self.default_slider_value = default_slider_value\n",
    "        self.y = y\n",
    "        self.x = x\n",
    "        if(x is None):\n",
    "            self.x = [i for i in range(len(data))]\n",
    "        \n",
    "        self.size = 25\n",
    "        self.params = {'legend.fontsize': 'large',\n",
    "          'figure.figsize': (15,5),\n",
    "          'axes.labelsize': size,\n",
    "          'axes.titlesize': size,\n",
    "          'xtick.labelsize': size*0.75,\n",
    "          'ytick.labelsize': size*0.75,\n",
    "          'axes.titlepad': 25,\n",
    "          'font.family':'sans-serif',\n",
    "          'font.weight':'bold',\n",
    "          'text.color':'aqua'\n",
    "         }\n",
    "    \n",
    "    def plot_data(self,scale):\n",
    "        scale = 2**scale  #Converting log scale to normal scale\n",
    "        buckets = []\n",
    "        length = len(self.y)\n",
    "        bucket_size = length//scale\n",
    "        index = []\n",
    "\n",
    "    \n",
    "        for i in range(0,length,bucket_size):\n",
    "            buckets.append(self.y[i:i+bucket_size].mean())\n",
    "            index.append(self.x[min(i+bucket_size-1,len(indicies)-1)])\n",
    "\n",
    "        plt.plot(index,buckets)\n",
    "        plt.rcParams.update(self.params)\n",
    "        plt.title(self.title)\n",
    "        plt.xlabel(self.xlabel)\n",
    "        plt.ylabel(self.ylabel)\n",
    "        plt.show()\n",
    "    \n",
    "    def clicked(self,b):\n",
    "        self.out.clear_output()\n",
    "        scale = self.slider.value\n",
    "        with self.out:\n",
    "            self.plot_data(scale)\n",
    "    def run(self):\n",
    "        self.out = widgets.Output()\n",
    "        button = widgets.Button(description=\"Plot Value\")\n",
    "        slider_max = int(np.log2(len(self.y)))\n",
    "        \n",
    "        if(self.default_slider_value is not None):\n",
    "            default_slider_value = self.default_slider_value\n",
    "        else:\n",
    "            default_slider_value = np.random.choice([i for i in range(1,slider_max)])\n",
    "        self.slider = widgets.IntSlider(min=1, max=slider_max, \n",
    "                                   value=default_slider_value,\n",
    "                                   description=\"Scale\",\n",
    "                                   layout=widgets.Layout(width='50%'))\n",
    "\n",
    "        box_layout = widgets.Layout(\n",
    "            display='flex',\n",
    "            flex_flow='column',\n",
    "            align_items='center',\n",
    "            width='80%'\n",
    "        )\n",
    "\n",
    "        box = widgets.VBox(\n",
    "            [\n",
    "                self.out,\n",
    "                self.slider,\n",
    "                button\n",
    "            ],\n",
    "            layout=box_layout\n",
    "        )\n",
    "\n",
    "        \n",
    "\n",
    "        with self.out:    \n",
    "            self.plot_data(default_slider_value)\n",
    "        button.on_click(self.clicked)\n",
    "        display(box)\n",
    "    \n",
    "plotter = Plotter(title=\"Memorization Metric\",\n",
    "                  xlabel='Index',ylabel='NLL Loss',\n",
    "                  x=indicies,y=data)\n",
    "plotter.run()"
   ]
  },
  {
   "cell_type": "markdown",
   "id": "234c5151",
   "metadata": {},
   "source": [
    "# Correlation"
   ]
  },
  {
   "cell_type": "code",
   "execution_count": 8,
   "id": "e1295dca",
   "metadata": {},
   "outputs": [
    {
     "data": {
      "application/vnd.jupyter.widget-view+json": {
       "model_id": "deb7bf0f56f7441c8b9ced4c3fae0123",
       "version_major": 2,
       "version_minor": 0
      },
      "text/plain": [
       "VBox(children=(Output(), IntSlider(value=11, description='Scale', layout=Layout(width='50%'), max=22, min=1), …"
      ]
     },
     "metadata": {},
     "output_type": "display_data"
    }
   ],
   "source": [
    "from scipy import signal\n",
    "\n",
    "correlation = signal.correlate(indicies, data, mode=\"full\")\n",
    "plotter = Plotter(xlabel='indicies',ylabel='correlation',\n",
    "                  title='Correlation',x=indicies,y=correlation,default_slider_value=11)\n",
    "plotter.run()"
   ]
  },
  {
   "cell_type": "markdown",
   "id": "19be402e",
   "metadata": {},
   "source": [
    "# Statistics"
   ]
  },
  {
   "cell_type": "code",
   "execution_count": 11,
   "id": "73b6aaf8",
   "metadata": {},
   "outputs": [
    {
     "name": "stdout",
     "output_type": "stream",
     "text": [
      "R2 Score between indicies and data: -3.00022\n",
      "Average NLL Loss changed from -10.01421 to -10.00763\n",
      "Varience of  NLL Loss changed from 35.04649 to 34.87698\n",
      "Trend of very slight improvement continues\n"
     ]
    }
   ],
   "source": [
    "import matplotlib.pyplot as plt\n",
    "\n",
    "SAMPLE_VALUE = len(data)*25//100\n",
    "from sklearn.metrics import r2_score\n",
    "r2 = r2_score(indicies,data)\n",
    "print(f\"R2 Score between indicies and data: {r2:.5f}\")\n",
    "avg_start = data[:SAMPLE_VALUE].mean()\n",
    "avg_end = data[SAMPLE_VALUE:].mean()\n",
    "\n",
    "var_start = data[:SAMPLE_VALUE].var()\n",
    "var_end = data[SAMPLE_VALUE:].var()\n",
    "print(f\"Average NLL Loss changed from {avg_start:.5f} to {avg_end:.5f}\")\n",
    "print(f\"Varience of  NLL Loss changed from {var_start:.5f} to {var_end:.5f}\")\n",
    "print(\"Trend of very slight improvement continues\")"
   ]
  },
  {
   "cell_type": "markdown",
   "id": "02294f76",
   "metadata": {},
   "source": []
  }
 ],
 "metadata": {
  "kernelspec": {
   "display_name": "Python 3 (ipykernel)",
   "language": "python",
   "name": "python3"
  },
  "language_info": {
   "codemirror_mode": {
    "name": "ipython",
    "version": 3
   },
   "file_extension": ".py",
   "mimetype": "text/x-python",
   "name": "python",
   "nbconvert_exporter": "python",
   "pygments_lexer": "ipython3",
   "version": "3.8.5"
  }
 },
 "nbformat": 4,
 "nbformat_minor": 5
}
